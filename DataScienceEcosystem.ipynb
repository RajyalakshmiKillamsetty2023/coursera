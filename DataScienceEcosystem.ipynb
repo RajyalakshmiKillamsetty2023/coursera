{
 "cells": [
  {
   "cell_type": "markdown",
   "id": "8f88e069-97cd-4bb4-b595-84a984f047f3",
   "metadata": {},
   "source": [
    "# Data Science Tools and Ecosystem\n"
   ]
  },
  {
   "cell_type": "markdown",
   "id": "9400c794-8c4e-4b50-9c6f-c4bed601a7c3",
   "metadata": {},
   "source": [
    "In this notebook, Data Science Tools and Ecosystem are summarized."
   ]
  },
  {
   "cell_type": "markdown",
   "id": "d3ae62de-5fc7-4b12-8919-26d794225efe",
   "metadata": {},
   "source": [
    " **Objectives:**\n",
    " * Popular languages of Data Science\n",
    " * Popular libraries for Data Science\n",
    " * Popular development environments\n",
    " * Arithmetic expression evaluation"
   ]
  },
  {
   "cell_type": "markdown",
   "id": "1ccbfaa3-87fd-454c-a330-36c59086696e",
   "metadata": {},
   "source": [
    "Some of the popular languages that Data Scientists use are:\n",
    "* Python\n",
    "* R\n",
    "* SQL"
   ]
  },
  {
   "cell_type": "markdown",
   "id": "482807c4-ed91-4678-9a97-00caabbcf9b7",
   "metadata": {},
   "source": [
    "Some of the commonly used libraries used by Data Scientists include:\n",
    "* Pandas\n",
    "* Numpy\n",
    "* Matplotlib"
   ]
  },
  {
   "cell_type": "markdown",
   "id": "5997a169-8f7c-4751-9b45-0a3aa1e0821e",
   "metadata": {},
   "source": []
  },
  {
   "cell_type": "markdown",
   "id": "abb99c46-ae06-418d-8ab3-6ec023186e6d",
   "metadata": {},
   "source": [
    "|Data Science Tools|\n",
    "|------------------|\n",
    "|RStudio|\n",
    "|Apache Hadoop|\n",
    "|IBM Watson Studio|"
   ]
  },
  {
   "cell_type": "markdown",
   "id": "b51764c7-2075-45bd-8cce-b62f9126f378",
   "metadata": {},
   "source": [
    "### Below are a few examples of evaluating arithmetic expressions in Python"
   ]
  },
  {
   "cell_type": "code",
   "execution_count": 20,
   "id": "3bc085d6-3cb3-4071-8812-ab3ee71344b7",
   "metadata": {},
   "outputs": [
    {
     "data": {
      "text/plain": [
       "17"
      ]
     },
     "execution_count": 20,
     "metadata": {},
     "output_type": "execute_result"
    }
   ],
   "source": [
    "#This a simple arithmetic expression to multiply then add integers\n",
    "(3*4)+5"
   ]
  },
  {
   "cell_type": "code",
   "execution_count": 26,
   "id": "49777d38-27f4-4c79-a5b9-bf4264303c69",
   "metadata": {},
   "outputs": [
    {
     "name": "stdout",
     "output_type": "stream",
     "text": [
      "33.333333333333336\n"
     ]
    }
   ],
   "source": [
    "#This will convert 200 minutes to hours by dividing by 60\n",
    "min = 200\n",
    "hr = 200/6\n",
    "print(hr)"
   ]
  },
  {
   "cell_type": "markdown",
   "id": "c02c57b1-1abb-449c-888e-e8c5b01d1cde",
   "metadata": {},
   "source": [
    "##  Author\n",
    "Killamsetty Rajyalakshmi"
   ]
  }
 ],
 "metadata": {
  "kernelspec": {
   "display_name": "Python 3 (ipykernel)",
   "language": "python",
   "name": "python3"
  },
  "language_info": {
   "codemirror_mode": {
    "name": "ipython",
    "version": 3
   },
   "file_extension": ".py",
   "mimetype": "text/x-python",
   "name": "python",
   "nbconvert_exporter": "python",
   "pygments_lexer": "ipython3",
   "version": "3.12.7"
  }
 },
 "nbformat": 4,
 "nbformat_minor": 5
}
